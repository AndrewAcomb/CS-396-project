{
 "cells": [
  {
   "cell_type": "code",
   "execution_count": 1,
   "metadata": {},
   "outputs": [],
   "source": [
    "import statistics \n",
    "import json\n",
    "import pandas as pd\n",
    "import numpy as np\n",
    "import scipy.stats\n",
    "from apyori import apriori\n",
    "import re\n",
    "import matplotlib.pyplot as plt\n",
    "import powerlaw"
   ]
  },
  {
   "cell_type": "code",
   "execution_count": 2,
   "metadata": {},
   "outputs": [],
   "source": [
    "df = pd.read_csv(\"./data/cleaned_m1_data.csv\")"
   ]
  },
  {
   "cell_type": "code",
   "execution_count": 5,
   "metadata": {},
   "outputs": [
    {
     "data": {
      "text/plain": [
       "(37.43403348191125,\n",
       " 9.4557621203801e-10,\n",
       " 1,\n",
       " array([[  14.18207381, 1819.81792619],\n",
       "        [   7.81792619, 1003.18207381]]))"
      ]
     },
     "execution_count": 5,
     "metadata": {},
     "output_type": "execute_result"
    }
   ],
   "source": [
    "avgBotPre = df['02_ZHVI_Bot'].mean()\n",
    "avgBotPost = df['08_ZHVI_Bot'].mean() \n",
    "\n",
    "casesPre = df['02_Cases'].mean()\n",
    "casesPost = df['08_Cases'].mean()\n",
    "\n",
    "cheaperHigh = len(df[(df['02_ZHVI_Bot']<=avgBotPre)&(df['02_Cases']>casesPre)])\n",
    "cheaperLow = len(df[(df['02_ZHVI_Bot']<=avgBotPre)&(df['02_Cases']<=casesPre)])\n",
    "expHigh = len(df[(df['02_ZHVI_Bot']>avgBotPre)&(df['02_Cases']>casesPre)])\n",
    "expLow = len(df[(df['02_ZHVI_Bot']>avgBotPre)&(df['02_Cases']<=casesPre)])\n",
    "\n",
    "#pre covid chi-squares\n",
    "table = [[cheaperHigh, cheaperLow], [expHigh, expLow]]\n",
    "scipy.stats.chi2_contingency(table)"
   ]
  },
  {
   "cell_type": "code",
   "execution_count": 6,
   "metadata": {},
   "outputs": [
    {
     "data": {
      "text/plain": [
       "(319.2346739678735,\n",
       " 2.1262113582881006e-71,\n",
       " 1,\n",
       " array([[ 295.72478032, 1545.27521968],\n",
       "        [ 161.27521968,  842.72478032]]))"
      ]
     },
     "execution_count": 6,
     "metadata": {},
     "output_type": "execute_result"
    }
   ],
   "source": [
    "cheaperHigh = len(df[(df['08_ZHVI_Bot']<=avgBotPost)&(df['08_Cases']>casesPost)])\n",
    "cheaperLow = len(df[(df['08_ZHVI_Bot']<=avgBotPost)&(df['08_Cases']<=casesPost)])\n",
    "expHigh = len(df[(df['08_ZHVI_Bot']>avgBotPost)&(df['08_Cases']>casesPost)])\n",
    "expLow = len(df[(df['08_ZHVI_Bot']>avgBotPost)&(df['08_Cases']<=casesPost)])\n",
    "\n",
    "#post covid chi-squares\n",
    "table = [[cheaperHigh, cheaperLow], [expHigh, expLow]]\n",
    "scipy.stats.chi2_contingency(table)"
   ]
  },
  {
   "cell_type": "code",
   "execution_count": 7,
   "metadata": {},
   "outputs": [
    {
     "data": {
      "text/plain": [
       "(40.33879985663838,\n",
       " 2.1352601912598707e-10,\n",
       " 1,\n",
       " array([[  14.54551845, 1866.45448155],\n",
       "        [   7.45448155,  956.54551845]]))"
      ]
     },
     "execution_count": 7,
     "metadata": {},
     "output_type": "execute_result"
    }
   ],
   "source": [
    "avgTopPre = df['02_ZHVI_Top'].mean()\n",
    "avgTopPost = df['08_ZHVI_Top'].mean()\n",
    "\n",
    "casesPre = df['02_Cases'].mean()\n",
    "casesPost = df['08_Cases'].mean()\n",
    "\n",
    "cheaperHigh = len(df[(df['02_ZHVI_Top']<=avgTopPre)&(df['02_Cases']>casesPre)])\n",
    "cheaperLow = len(df[(df['02_ZHVI_Top']<=avgTopPre)&(df['02_Cases']<=casesPre)])\n",
    "expHigh = len(df[(df['02_ZHVI_Top']>avgTopPre)&(df['02_Cases']>casesPre)])\n",
    "expLow = len(df[(df['02_ZHVI_Top']>avgTopPre)&(df['02_Cases']<=casesPre)])\n",
    "\n",
    "#pre covid chi-squares\n",
    "table = [[cheaperHigh, cheaperLow], [expHigh, expLow]]\n",
    "scipy.stats.chi2_contingency(table)"
   ]
  },
  {
   "cell_type": "code",
   "execution_count": 9,
   "metadata": {},
   "outputs": [
    {
     "data": {
      "text/plain": [
       "(264.1268782331765,\n",
       " 2.162628431770693e-59,\n",
       " 1,\n",
       " array([[ 301.34692443, 1574.65307557],\n",
       "        [ 155.65307557,  813.34692443]]))"
      ]
     },
     "execution_count": 9,
     "metadata": {},
     "output_type": "execute_result"
    }
   ],
   "source": [
    "cheaperHigh = len(df[(df['08_ZHVI_Top']<=avgTopPost)&(df['08_Cases']>casesPost)])\n",
    "cheaperLow = len(df[(df['08_ZHVI_Top']<=avgTopPost)&(df['08_Cases']<=casesPost)])\n",
    "expHigh = len(df[(df['08_ZHVI_Top']>avgTopPost)&(df['08_Cases']>casesPost)])\n",
    "expLow = len(df[(df['08_ZHVI_Top']>avgTopPost)&(df['08_Cases']<=casesPost)])\n",
    "\n",
    "#pre covid chi-squares\n",
    "table = [[cheaperHigh, cheaperLow], [expHigh, expLow]]\n",
    "scipy.stats.chi2_contingency(table)"
   ]
  },
  {
   "cell_type": "code",
   "execution_count": null,
   "metadata": {},
   "outputs": [],
   "source": []
  }
 ],
 "metadata": {
  "kernelspec": {
   "display_name": "Python 3",
   "language": "python",
   "name": "python3"
  },
  "language_info": {
   "codemirror_mode": {
    "name": "ipython",
    "version": 3
   },
   "file_extension": ".py",
   "mimetype": "text/x-python",
   "name": "python",
   "nbconvert_exporter": "python",
   "pygments_lexer": "ipython3",
   "version": "3.8.5"
  }
 },
 "nbformat": 4,
 "nbformat_minor": 4
}
