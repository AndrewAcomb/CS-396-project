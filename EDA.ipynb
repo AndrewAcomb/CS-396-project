{
 "cells": [
  {
   "cell_type": "code",
   "execution_count": 19,
   "metadata": {},
   "outputs": [],
   "source": [
    "import pandas as pd\n",
    "import numpy as np\n",
    "import matplotlib.pyplot as plt\n",
    "\n",
    "zillow = pd.read_csv(\"data/County_zhvi_uc_sfrcondo_tier_0.67_1.0_sm_sa_mon.csv\")\n",
    "nyt = pd.read_csv(\"data/us.csv\")"
   ]
  },
  {
   "cell_type": "code",
   "execution_count": 32,
   "metadata": {},
   "outputs": [
    {
     "data": {
      "text/plain": [
       "[<matplotlib.lines.Line2D at 0x7f8e2146dd90>]"
      ]
     },
     "execution_count": 32,
     "metadata": {},
     "output_type": "execute_result"
    },
    {
     "data": {
      "image/png": "[encoded data removed]",
      "text/plain": [
       "<Figure size 432x288 with 1 Axes>"
      ]
     },
     "metadata": {
      "needs_background": "light"
     },
     "output_type": "display_data"
    }
   ],
   "source": [
    "plt.plot(nyt[\"date\"], nyt[\"cases\"])"
   ]
  },
  {
   "cell_type": "code",
   "execution_count": 29,
   "metadata": {},
   "outputs": [
    {
     "data": {
      "text/plain": [
       "<matplotlib.collections.PathCollection at 0x7f8e201d2b20>"
      ]
     },
     "execution_count": 29,
     "metadata": {},
     "output_type": "execute_result"
    },
    {
     "data": {
      "image/png": "[encoded data removed]",
      "text/plain": [
       "<Figure size 432x288 with 1 Axes>"
      ]
     },
     "metadata": {
      "needs_background": "light"
     },
     "output_type": "display_data"
    }
   ],
   "source": [
    "plt.scatter(zillow[\"MunicipalCodeFIPS\"], zillow[\"2020-01-31\"])"
   ]
  },
  {
   "cell_type": "code",
   "execution_count": 13,
   "metadata": {},
   "outputs": [
    {
     "name": "stdout",
     "output_type": "stream",
     "text": [
      "The above graph depicts home prices before the spike in COVID-19 cases in the USA. In the graph, we see the ZHVI (Zillow Home Value Index) for each county on 1/31/2020. Counties are designated by FIPS code. This plot shows that, despite some outliers, a vast majority of counties have similar ZHVI's.\n"
     ]
    }
   ],
   "source": [
    "print(\"The above graph depicts home prices before the spike in COVID-19 cases in the USA. In the graph, we see the ZHVI (Zillow Home Value Index) for each county on 1/31/2020. Counties are designated by FIPS code. This plot shows that, despite some outliers, a vast majority of counties have similar ZHVI's.\")"
   ]
  },
  {
   "cell_type": "code",
   "execution_count": 30,
   "metadata": {},
   "outputs": [
    {
     "data": {
      "text/plain": [
       "<matplotlib.collections.PathCollection at 0x7f8e213b2880>"
      ]
     },
     "execution_count": 30,
     "metadata": {},
     "output_type": "execute_result"
    },
    {
     "data": {
      "image/png": "[encoded data removed]",
      "text/plain": [
       "<Figure size 432x288 with 1 Axes>"
      ]
     },
     "metadata": {
      "needs_background": "light"
     },
     "output_type": "display_data"
    }
   ],
   "source": [
    "plt.scatter(zillow[\"2020-01-31\"], zillow[\"2020-08-31\"])"
   ]
  },
  {
   "cell_type": "code",
   "execution_count": 31,
   "metadata": {},
   "outputs": [
    {
     "name": "stdout",
     "output_type": "stream",
     "text": [
      "The above graph depicts ZHVI values for all counties before and after the spike (x: 1/31/202 and y: 8/31/2020). As a straight line with slope roughly = 1, the graph doesn't suggest much of a disparity between the home values after the spike.\n"
     ]
    }
   ],
   "source": [
    "print(\"The above graph depicts ZHVI values for all counties before and after the spike (x: 1/31/202 and y: 8/31/2020). As a straight line with slope roughly = 1, the graph doesn't suggest much of a disparity between the home values after the spike.\")"
   ]
  },
  {
   "cell_type": "code",
   "execution_count": 4,
   "metadata": {},
   "outputs": [
    {
     "data": {
      "text/html": [
       "<div>\n",
       "<style scoped>\n",
       "    .dataframe tbody tr th:only-of-type {\n",
       "        vertical-align: middle;\n",
       "    }\n",
       "\n",
       "    .dataframe tbody tr th {\n",
       "        vertical-align: top;\n",
       "    }\n",
       "\n",
       "    .dataframe thead th {\n",
       "        text-align: right;\n",
       "    }\n",
       "</style>\n",
       "<table border=\"1\" class=\"dataframe\">\n",
       "  <thead>\n",
       "    <tr style=\"text-align: right;\">\n",
       "      <th></th>\n",
       "      <th>RegionID</th>\n",
       "      <th>SizeRank</th>\n",
       "      <th>RegionName</th>\n",
       "      <th>RegionType</th>\n",
       "      <th>StateName</th>\n",
       "      <th>State</th>\n",
       "      <th>Metro</th>\n",
       "      <th>StateCodeFIPS</th>\n",
       "      <th>MunicipalCodeFIPS</th>\n",
       "      <th>1996-01-31</th>\n",
       "      <th>...</th>\n",
       "      <th>2020-03-31</th>\n",
       "      <th>2020-04-30</th>\n",
       "      <th>2020-05-31</th>\n",
       "      <th>2020-06-30</th>\n",
       "      <th>2020-07-31</th>\n",
       "      <th>2020-08-31</th>\n",
       "      <th>2020-09-30</th>\n",
       "      <th>2020-10-31</th>\n",
       "      <th>2020-11-30</th>\n",
       "      <th>2020-12-31</th>\n",
       "    </tr>\n",
       "  </thead>\n",
       "  <tbody>\n",
       "    <tr>\n",
       "      <th>0</th>\n",
       "      <td>3101</td>\n",
       "      <td>0</td>\n",
       "      <td>Los Angeles County</td>\n",
       "      <td>County</td>\n",
       "      <td>CA</td>\n",
       "      <td>CA</td>\n",
       "      <td>Los Angeles-Long Beach-Anaheim</td>\n",
       "      <td>6</td>\n",
       "      <td>37</td>\n",
       "      <td>319403.0</td>\n",
       "      <td>...</td>\n",
       "      <td>1171699.0</td>\n",
       "      <td>1179615.0</td>\n",
       "      <td>1182173.0</td>\n",
       "      <td>1183746.0</td>\n",
       "      <td>1193130.0</td>\n",
       "      <td>1206653.0</td>\n",
       "      <td>1221427.0</td>\n",
       "      <td>1231945.0</td>\n",
       "      <td>1241930.0</td>\n",
       "      <td>1251102.0</td>\n",
       "    </tr>\n",
       "    <tr>\n",
       "      <th>1</th>\n",
       "      <td>139</td>\n",
       "      <td>1</td>\n",
       "      <td>Cook County</td>\n",
       "      <td>County</td>\n",
       "      <td>IL</td>\n",
       "      <td>IL</td>\n",
       "      <td>Chicago-Naperville-Elgin</td>\n",
       "      <td>17</td>\n",
       "      <td>31</td>\n",
       "      <td>277277.0</td>\n",
       "      <td>...</td>\n",
       "      <td>431065.0</td>\n",
       "      <td>431325.0</td>\n",
       "      <td>431812.0</td>\n",
       "      <td>432566.0</td>\n",
       "      <td>434374.0</td>\n",
       "      <td>436720.0</td>\n",
       "      <td>440214.0</td>\n",
       "      <td>443843.0</td>\n",
       "      <td>446943.0</td>\n",
       "      <td>449780.0</td>\n",
       "    </tr>\n",
       "    <tr>\n",
       "      <th>2</th>\n",
       "      <td>1090</td>\n",
       "      <td>2</td>\n",
       "      <td>Harris County</td>\n",
       "      <td>County</td>\n",
       "      <td>TX</td>\n",
       "      <td>TX</td>\n",
       "      <td>Houston-The Woodlands-Sugar Land</td>\n",
       "      <td>48</td>\n",
       "      <td>201</td>\n",
       "      <td>192648.0</td>\n",
       "      <td>...</td>\n",
       "      <td>346758.0</td>\n",
       "      <td>348288.0</td>\n",
       "      <td>349549.0</td>\n",
       "      <td>350562.0</td>\n",
       "      <td>351984.0</td>\n",
       "      <td>353835.0</td>\n",
       "      <td>356809.0</td>\n",
       "      <td>359658.0</td>\n",
       "      <td>363318.0</td>\n",
       "      <td>366981.0</td>\n",
       "    </tr>\n",
       "    <tr>\n",
       "      <th>3</th>\n",
       "      <td>2402</td>\n",
       "      <td>3</td>\n",
       "      <td>Maricopa County</td>\n",
       "      <td>County</td>\n",
       "      <td>AZ</td>\n",
       "      <td>AZ</td>\n",
       "      <td>Phoenix-Mesa-Scottsdale</td>\n",
       "      <td>4</td>\n",
       "      <td>13</td>\n",
       "      <td>191006.0</td>\n",
       "      <td>...</td>\n",
       "      <td>472634.0</td>\n",
       "      <td>477836.0</td>\n",
       "      <td>482528.0</td>\n",
       "      <td>486856.0</td>\n",
       "      <td>491213.0</td>\n",
       "      <td>497178.0</td>\n",
       "      <td>504393.0</td>\n",
       "      <td>512222.0</td>\n",
       "      <td>520462.0</td>\n",
       "      <td>528966.0</td>\n",
       "    </tr>\n",
       "    <tr>\n",
       "      <th>4</th>\n",
       "      <td>2841</td>\n",
       "      <td>4</td>\n",
       "      <td>San Diego County</td>\n",
       "      <td>County</td>\n",
       "      <td>CA</td>\n",
       "      <td>CA</td>\n",
       "      <td>San Diego-Carlsbad</td>\n",
       "      <td>6</td>\n",
       "      <td>73</td>\n",
       "      <td>299083.0</td>\n",
       "      <td>...</td>\n",
       "      <td>963754.0</td>\n",
       "      <td>968051.0</td>\n",
       "      <td>973721.0</td>\n",
       "      <td>977559.0</td>\n",
       "      <td>983139.0</td>\n",
       "      <td>992384.0</td>\n",
       "      <td>1006359.0</td>\n",
       "      <td>1021971.0</td>\n",
       "      <td>1037195.0</td>\n",
       "      <td>1052488.0</td>\n",
       "    </tr>\n",
       "    <tr>\n",
       "      <th>...</th>\n",
       "      <td>...</td>\n",
       "      <td>...</td>\n",
       "      <td>...</td>\n",
       "      <td>...</td>\n",
       "      <td>...</td>\n",
       "      <td>...</td>\n",
       "      <td>...</td>\n",
       "      <td>...</td>\n",
       "      <td>...</td>\n",
       "      <td>...</td>\n",
       "      <td>...</td>\n",
       "      <td>...</td>\n",
       "      <td>...</td>\n",
       "      <td>...</td>\n",
       "      <td>...</td>\n",
       "      <td>...</td>\n",
       "      <td>...</td>\n",
       "      <td>...</td>\n",
       "      <td>...</td>\n",
       "      <td>...</td>\n",
       "      <td>...</td>\n",
       "    </tr>\n",
       "    <tr>\n",
       "      <th>2854</th>\n",
       "      <td>425</td>\n",
       "      <td>3101</td>\n",
       "      <td>Camas County</td>\n",
       "      <td>County</td>\n",
       "      <td>ID</td>\n",
       "      <td>ID</td>\n",
       "      <td>Hailey</td>\n",
       "      <td>16</td>\n",
       "      <td>25</td>\n",
       "      <td>NaN</td>\n",
       "      <td>...</td>\n",
       "      <td>223114.0</td>\n",
       "      <td>225444.0</td>\n",
       "      <td>228186.0</td>\n",
       "      <td>229419.0</td>\n",
       "      <td>231124.0</td>\n",
       "      <td>232994.0</td>\n",
       "      <td>235189.0</td>\n",
       "      <td>237165.0</td>\n",
       "      <td>237244.0</td>\n",
       "      <td>237715.0</td>\n",
       "    </tr>\n",
       "    <tr>\n",
       "      <th>2855</th>\n",
       "      <td>1648</td>\n",
       "      <td>3102</td>\n",
       "      <td>Daggett County</td>\n",
       "      <td>County</td>\n",
       "      <td>UT</td>\n",
       "      <td>UT</td>\n",
       "      <td>NaN</td>\n",
       "      <td>49</td>\n",
       "      <td>9</td>\n",
       "      <td>NaN</td>\n",
       "      <td>...</td>\n",
       "      <td>292976.0</td>\n",
       "      <td>294077.0</td>\n",
       "      <td>294989.0</td>\n",
       "      <td>296075.0</td>\n",
       "      <td>297181.0</td>\n",
       "      <td>298895.0</td>\n",
       "      <td>301244.0</td>\n",
       "      <td>303684.0</td>\n",
       "      <td>307264.0</td>\n",
       "      <td>310621.0</td>\n",
       "    </tr>\n",
       "    <tr>\n",
       "      <th>2856</th>\n",
       "      <td>2345</td>\n",
       "      <td>3112</td>\n",
       "      <td>Hinsdale County</td>\n",
       "      <td>County</td>\n",
       "      <td>CO</td>\n",
       "      <td>CO</td>\n",
       "      <td>NaN</td>\n",
       "      <td>8</td>\n",
       "      <td>53</td>\n",
       "      <td>NaN</td>\n",
       "      <td>...</td>\n",
       "      <td>551744.0</td>\n",
       "      <td>551353.0</td>\n",
       "      <td>551551.0</td>\n",
       "      <td>552371.0</td>\n",
       "      <td>554949.0</td>\n",
       "      <td>557373.0</td>\n",
       "      <td>559433.0</td>\n",
       "      <td>562150.0</td>\n",
       "      <td>565962.0</td>\n",
       "      <td>570471.0</td>\n",
       "    </tr>\n",
       "    <tr>\n",
       "      <th>2857</th>\n",
       "      <td>1933</td>\n",
       "      <td>3122</td>\n",
       "      <td>Mineral County</td>\n",
       "      <td>County</td>\n",
       "      <td>CO</td>\n",
       "      <td>CO</td>\n",
       "      <td>NaN</td>\n",
       "      <td>8</td>\n",
       "      <td>79</td>\n",
       "      <td>NaN</td>\n",
       "      <td>...</td>\n",
       "      <td>429918.0</td>\n",
       "      <td>432476.0</td>\n",
       "      <td>435223.0</td>\n",
       "      <td>436603.0</td>\n",
       "      <td>438891.0</td>\n",
       "      <td>441720.0</td>\n",
       "      <td>445219.0</td>\n",
       "      <td>449526.0</td>\n",
       "      <td>454735.0</td>\n",
       "      <td>459912.0</td>\n",
       "    </tr>\n",
       "    <tr>\n",
       "      <th>2858</th>\n",
       "      <td>2518</td>\n",
       "      <td>3124</td>\n",
       "      <td>San Juan County</td>\n",
       "      <td>County</td>\n",
       "      <td>CO</td>\n",
       "      <td>CO</td>\n",
       "      <td>NaN</td>\n",
       "      <td>8</td>\n",
       "      <td>111</td>\n",
       "      <td>NaN</td>\n",
       "      <td>...</td>\n",
       "      <td>390907.0</td>\n",
       "      <td>391141.0</td>\n",
       "      <td>391223.0</td>\n",
       "      <td>392081.0</td>\n",
       "      <td>393020.0</td>\n",
       "      <td>394833.0</td>\n",
       "      <td>396348.0</td>\n",
       "      <td>398770.0</td>\n",
       "      <td>402515.0</td>\n",
       "      <td>407570.0</td>\n",
       "    </tr>\n",
       "  </tbody>\n",
       "</table>\n",
       "<p>2859 rows × 309 columns</p>\n",
       "</div>"
      ],
      "text/plain": [
       "      RegionID  SizeRank          RegionName RegionType StateName State  \\\n",
       "0         3101         0  Los Angeles County     County        CA    CA   \n",
       "1          139         1         Cook County     County        IL    IL   \n",
       "2         1090         2       Harris County     County        TX    TX   \n",
       "3         2402         3     Maricopa County     County        AZ    AZ   \n",
       "4         2841         4    San Diego County     County        CA    CA   \n",
       "...        ...       ...                 ...        ...       ...   ...   \n",
       "2854       425      3101        Camas County     County        ID    ID   \n",
       "2855      1648      3102      Daggett County     County        UT    UT   \n",
       "2856      2345      3112     Hinsdale County     County        CO    CO   \n",
       "2857      1933      3122      Mineral County     County        CO    CO   \n",
       "2858      2518      3124     San Juan County     County        CO    CO   \n",
       "\n",
       "                                 Metro  StateCodeFIPS  MunicipalCodeFIPS  \\\n",
       "0       Los Angeles-Long Beach-Anaheim              6                 37   \n",
       "1             Chicago-Naperville-Elgin             17                 31   \n",
       "2     Houston-The Woodlands-Sugar Land             48                201   \n",
       "3              Phoenix-Mesa-Scottsdale              4                 13   \n",
       "4                   San Diego-Carlsbad              6                 73   \n",
       "...                                ...            ...                ...   \n",
       "2854                            Hailey             16                 25   \n",
       "2855                               NaN             49                  9   \n",
       "2856                               NaN              8                 53   \n",
       "2857                               NaN              8                 79   \n",
       "2858                               NaN              8                111   \n",
       "\n",
       "      1996-01-31  ...  2020-03-31  2020-04-30  2020-05-31  2020-06-30  \\\n",
       "0       319403.0  ...   1171699.0   1179615.0   1182173.0   1183746.0   \n",
       "1       277277.0  ...    431065.0    431325.0    431812.0    432566.0   \n",
       "2       192648.0  ...    346758.0    348288.0    349549.0    350562.0   \n",
       "3       191006.0  ...    472634.0    477836.0    482528.0    486856.0   \n",
       "4       299083.0  ...    963754.0    968051.0    973721.0    977559.0   \n",
       "...          ...  ...         ...         ...         ...         ...   \n",
       "2854         NaN  ...    223114.0    225444.0    228186.0    229419.0   \n",
       "2855         NaN  ...    292976.0    294077.0    294989.0    296075.0   \n",
       "2856         NaN  ...    551744.0    551353.0    551551.0    552371.0   \n",
       "2857         NaN  ...    429918.0    432476.0    435223.0    436603.0   \n",
       "2858         NaN  ...    390907.0    391141.0    391223.0    392081.0   \n",
       "\n",
       "      2020-07-31  2020-08-31  2020-09-30  2020-10-31  2020-11-30  2020-12-31  \n",
       "0      1193130.0   1206653.0   1221427.0   1231945.0   1241930.0   1251102.0  \n",
       "1       434374.0    436720.0    440214.0    443843.0    446943.0    449780.0  \n",
       "2       351984.0    353835.0    356809.0    359658.0    363318.0    366981.0  \n",
       "3       491213.0    497178.0    504393.0    512222.0    520462.0    528966.0  \n",
       "4       983139.0    992384.0   1006359.0   1021971.0   1037195.0   1052488.0  \n",
       "...          ...         ...         ...         ...         ...         ...  \n",
       "2854    231124.0    232994.0    235189.0    237165.0    237244.0    237715.0  \n",
       "2855    297181.0    298895.0    301244.0    303684.0    307264.0    310621.0  \n",
       "2856    554949.0    557373.0    559433.0    562150.0    565962.0    570471.0  \n",
       "2857    438891.0    441720.0    445219.0    449526.0    454735.0    459912.0  \n",
       "2858    393020.0    394833.0    396348.0    398770.0    402515.0    407570.0  \n",
       "\n",
       "[2859 rows x 309 columns]"
      ]
     },
     "execution_count": 4,
     "metadata": {},
     "output_type": "execute_result"
    }
   ],
   "source": [
    "zillow"
   ]
  },
  {
   "cell_type": "code",
   "execution_count": null,
   "metadata": {},
   "outputs": [],
   "source": []
  }
 ],
 "metadata": {
  "kernelspec": {
   "display_name": "Python 3",
   "language": "python",
   "name": "python3"
  },
  "language_info": {
   "codemirror_mode": {
    "name": "ipython",
    "version": 3
   },
   "file_extension": ".py",
   "mimetype": "text/x-python",
   "name": "python",
   "nbconvert_exporter": "python",
   "pygments_lexer": "ipython3",
   "version": "3.8.5"
  }
 },
 "nbformat": 4,
 "nbformat_minor": 4
}
