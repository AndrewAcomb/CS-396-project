{
 "cells": [
  {
   "cell_type": "code",
   "execution_count": 1,
   "metadata": {},
   "outputs": [],
   "source": [
    "import pandas as pd\n",
    "import numpy as np\n",
    "import matplotlib.pyplot as plt\n",
    "import plotly.figure_factory as ff\n",
    "import math"
   ]
  },
  {
   "cell_type": "code",
   "execution_count": 2,
   "metadata": {},
   "outputs": [
    {
     "data": {
      "text/html": [
       "<div>\n",
       "<style scoped>\n",
       "    .dataframe tbody tr th:only-of-type {\n",
       "        vertical-align: middle;\n",
       "    }\n",
       "\n",
       "    .dataframe tbody tr th {\n",
       "        vertical-align: top;\n",
       "    }\n",
       "\n",
       "    .dataframe thead th {\n",
       "        text-align: right;\n",
       "    }\n",
       "</style>\n",
       "<table border=\"1\" class=\"dataframe\">\n",
       "  <thead>\n",
       "    <tr style=\"text-align: right;\">\n",
       "      <th></th>\n",
       "      <th>FIPS</th>\n",
       "      <th>01_Cases</th>\n",
       "      <th>01_Deaths</th>\n",
       "      <th>01_ZHVI_Bot</th>\n",
       "      <th>01_ZHVI_Top</th>\n",
       "      <th>02_Cases</th>\n",
       "      <th>02_Deaths</th>\n",
       "      <th>02_ZHVI_Bot</th>\n",
       "      <th>02_ZHVI_Top</th>\n",
       "      <th>03_Cases</th>\n",
       "      <th>...</th>\n",
       "      <th>11_ZHVI_Top</th>\n",
       "      <th>12_Cases</th>\n",
       "      <th>12_Deaths</th>\n",
       "      <th>12_ZHVI_Bot</th>\n",
       "      <th>12_ZHVI_Top</th>\n",
       "      <th>County</th>\n",
       "      <th>Metro</th>\n",
       "      <th>SizeRank</th>\n",
       "      <th>State</th>\n",
       "      <th>StateName</th>\n",
       "    </tr>\n",
       "  </thead>\n",
       "  <tbody>\n",
       "    <tr>\n",
       "      <th>0</th>\n",
       "      <td>6037</td>\n",
       "      <td>1</td>\n",
       "      <td>0.0</td>\n",
       "      <td>467097.0</td>\n",
       "      <td>1153112.0</td>\n",
       "      <td>1</td>\n",
       "      <td>0.0</td>\n",
       "      <td>471446.0</td>\n",
       "      <td>1162570.0</td>\n",
       "      <td>3011</td>\n",
       "      <td>...</td>\n",
       "      <td>1241930.0</td>\n",
       "      <td>770915</td>\n",
       "      <td>10345.0</td>\n",
       "      <td>511565.0</td>\n",
       "      <td>1251102.0</td>\n",
       "      <td>Los Angeles</td>\n",
       "      <td>Los Angeles-Long Beach-Anaheim</td>\n",
       "      <td>0</td>\n",
       "      <td>CA</td>\n",
       "      <td>California</td>\n",
       "    </tr>\n",
       "    <tr>\n",
       "      <th>1</th>\n",
       "      <td>17031</td>\n",
       "      <td>2</td>\n",
       "      <td>0.0</td>\n",
       "      <td>156681.0</td>\n",
       "      <td>430687.0</td>\n",
       "      <td>3</td>\n",
       "      <td>0.0</td>\n",
       "      <td>156772.0</td>\n",
       "      <td>430623.0</td>\n",
       "      <td>4496</td>\n",
       "      <td>...</td>\n",
       "      <td>446943.0</td>\n",
       "      <td>393652</td>\n",
       "      <td>8285.0</td>\n",
       "      <td>167255.0</td>\n",
       "      <td>449780.0</td>\n",
       "      <td>Cook</td>\n",
       "      <td>Chicago-Naperville-Elgin</td>\n",
       "      <td>1</td>\n",
       "      <td>IL</td>\n",
       "      <td>Illinois</td>\n",
       "    </tr>\n",
       "    <tr>\n",
       "      <th>2</th>\n",
       "      <td>48201</td>\n",
       "      <td>0</td>\n",
       "      <td>0.0</td>\n",
       "      <td>144662.0</td>\n",
       "      <td>345372.0</td>\n",
       "      <td>0</td>\n",
       "      <td>0.0</td>\n",
       "      <td>145031.0</td>\n",
       "      <td>345597.0</td>\n",
       "      <td>680</td>\n",
       "      <td>...</td>\n",
       "      <td>363318.0</td>\n",
       "      <td>237727</td>\n",
       "      <td>3402.0</td>\n",
       "      <td>156392.0</td>\n",
       "      <td>366981.0</td>\n",
       "      <td>Harris</td>\n",
       "      <td>Houston-The Woodlands-Sugar Land</td>\n",
       "      <td>2</td>\n",
       "      <td>TX</td>\n",
       "      <td>Texas</td>\n",
       "    </tr>\n",
       "    <tr>\n",
       "      <th>3</th>\n",
       "      <td>4013</td>\n",
       "      <td>1</td>\n",
       "      <td>0.0</td>\n",
       "      <td>212378.0</td>\n",
       "      <td>465948.0</td>\n",
       "      <td>1</td>\n",
       "      <td>0.0</td>\n",
       "      <td>214104.0</td>\n",
       "      <td>468857.0</td>\n",
       "      <td>791</td>\n",
       "      <td>...</td>\n",
       "      <td>520462.0</td>\n",
       "      <td>322449</td>\n",
       "      <td>5125.0</td>\n",
       "      <td>245767.0</td>\n",
       "      <td>528966.0</td>\n",
       "      <td>Maricopa</td>\n",
       "      <td>Phoenix-Mesa-Scottsdale</td>\n",
       "      <td>3</td>\n",
       "      <td>AZ</td>\n",
       "      <td>Arizona</td>\n",
       "    </tr>\n",
       "    <tr>\n",
       "      <th>4</th>\n",
       "      <td>6073</td>\n",
       "      <td>0</td>\n",
       "      <td>0.0</td>\n",
       "      <td>448466.0</td>\n",
       "      <td>952309.0</td>\n",
       "      <td>1</td>\n",
       "      <td>0.0</td>\n",
       "      <td>451422.0</td>\n",
       "      <td>957636.0</td>\n",
       "      <td>734</td>\n",
       "      <td>...</td>\n",
       "      <td>1037195.0</td>\n",
       "      <td>155658</td>\n",
       "      <td>1534.0</td>\n",
       "      <td>501409.0</td>\n",
       "      <td>1052488.0</td>\n",
       "      <td>San Diego</td>\n",
       "      <td>San Diego-Carlsbad</td>\n",
       "      <td>4</td>\n",
       "      <td>CA</td>\n",
       "      <td>California</td>\n",
       "    </tr>\n",
       "  </tbody>\n",
       "</table>\n",
       "<p>5 rows × 54 columns</p>\n",
       "</div>"
      ],
      "text/plain": [
       "    FIPS  01_Cases  01_Deaths  01_ZHVI_Bot  01_ZHVI_Top  02_Cases  02_Deaths  \\\n",
       "0   6037         1        0.0     467097.0    1153112.0         1        0.0   \n",
       "1  17031         2        0.0     156681.0     430687.0         3        0.0   \n",
       "2  48201         0        0.0     144662.0     345372.0         0        0.0   \n",
       "3   4013         1        0.0     212378.0     465948.0         1        0.0   \n",
       "4   6073         0        0.0     448466.0     952309.0         1        0.0   \n",
       "\n",
       "   02_ZHVI_Bot  02_ZHVI_Top  03_Cases  ...  11_ZHVI_Top  12_Cases  12_Deaths  \\\n",
       "0     471446.0    1162570.0      3011  ...    1241930.0    770915    10345.0   \n",
       "1     156772.0     430623.0      4496  ...     446943.0    393652     8285.0   \n",
       "2     145031.0     345597.0       680  ...     363318.0    237727     3402.0   \n",
       "3     214104.0     468857.0       791  ...     520462.0    322449     5125.0   \n",
       "4     451422.0     957636.0       734  ...    1037195.0    155658     1534.0   \n",
       "\n",
       "   12_ZHVI_Bot  12_ZHVI_Top       County                             Metro  \\\n",
       "0     511565.0    1251102.0  Los Angeles    Los Angeles-Long Beach-Anaheim   \n",
       "1     167255.0     449780.0         Cook          Chicago-Naperville-Elgin   \n",
       "2     156392.0     366981.0       Harris  Houston-The Woodlands-Sugar Land   \n",
       "3     245767.0     528966.0     Maricopa           Phoenix-Mesa-Scottsdale   \n",
       "4     501409.0    1052488.0    San Diego                San Diego-Carlsbad   \n",
       "\n",
       "   SizeRank  State   StateName  \n",
       "0         0     CA  California  \n",
       "1         1     IL    Illinois  \n",
       "2         2     TX       Texas  \n",
       "3         3     AZ     Arizona  \n",
       "4         4     CA  California  \n",
       "\n",
       "[5 rows x 54 columns]"
      ]
     },
     "execution_count": 2,
     "metadata": {},
     "output_type": "execute_result"
    }
   ],
   "source": [
    "df = pd.read_csv(\"./data/cleaned_m1_data.csv\")\n",
    "df.head()"
   ]
  },
  {
   "cell_type": "code",
   "execution_count": 4,
   "metadata": {
    "scrolled": true
   },
   "outputs": [
    {
     "ename": "ImportError",
     "evalue": "geopandas, pyshp and shapely must be installed for this figure factory.\n\nRun the following commands to install the correct versions of the following modules:\n\n```\n$ pip install geopandas==0.3.0\n$ pip install pyshp==1.2.10\n$ pip install shapely==1.6.3\n```\nIf you are using Windows, follow this post to properly install geopandas and dependencies:http://geoffboeing.com/2014/09/using-geopandas-windows/\n\nIf you are using Anaconda, do not use PIP to install the packages above. Instead use conda to install them:\n\n```\n$ conda install plotly\n$ conda install geopandas\n```",
     "output_type": "error",
     "traceback": [
      "\u001b[0;31m---------------------------------------------------------------------------\u001b[0m",
      "\u001b[0;31mImportError\u001b[0m                               Traceback (most recent call last)",
      "\u001b[0;32m<ipython-input-4-b2cf7ec726dc>\u001b[0m in \u001b[0;36m<module>\u001b[0;34m\u001b[0m\n\u001b[1;32m      1\u001b[0m \u001b[0;31m# The spread of the pandemic, visualized\u001b[0m\u001b[0;34m\u001b[0m\u001b[0;34m\u001b[0m\u001b[0;34m\u001b[0m\u001b[0m\n\u001b[1;32m      2\u001b[0m \u001b[0;34m\u001b[0m\u001b[0m\n\u001b[0;32m----> 3\u001b[0;31m \u001b[0mfig\u001b[0m \u001b[0;34m=\u001b[0m \u001b[0mff\u001b[0m\u001b[0;34m.\u001b[0m\u001b[0mcreate_choropleth\u001b[0m\u001b[0;34m(\u001b[0m\u001b[0mfips\u001b[0m\u001b[0;34m=\u001b[0m\u001b[0mdf\u001b[0m\u001b[0;34m[\u001b[0m\u001b[0;34m'FIPS'\u001b[0m\u001b[0;34m]\u001b[0m\u001b[0;34m,\u001b[0m \u001b[0mvalues\u001b[0m\u001b[0;34m=\u001b[0m\u001b[0mdf\u001b[0m\u001b[0;34m[\u001b[0m\u001b[0;34m'04_Cases'\u001b[0m\u001b[0;34m]\u001b[0m\u001b[0;34m)\u001b[0m\u001b[0;34m\u001b[0m\u001b[0;34m\u001b[0m\u001b[0m\n\u001b[0m\u001b[1;32m      4\u001b[0m \u001b[0mfig\u001b[0m\u001b[0;34m.\u001b[0m\u001b[0mupdate_layout\u001b[0m\u001b[0;34m(\u001b[0m\u001b[0mshowlegend\u001b[0m\u001b[0;34m=\u001b[0m\u001b[0;32mFalse\u001b[0m\u001b[0;34m)\u001b[0m\u001b[0;34m\u001b[0m\u001b[0;34m\u001b[0m\u001b[0m\n\u001b[1;32m      5\u001b[0m \u001b[0mfig\u001b[0m\u001b[0;34m.\u001b[0m\u001b[0mshow\u001b[0m\u001b[0;34m(\u001b[0m\u001b[0;34m)\u001b[0m\u001b[0;34m\u001b[0m\u001b[0;34m\u001b[0m\u001b[0m\n",
      "\u001b[0;32m~/Downloads/anaconda3/lib/python3.8/site-packages/plotly/figure_factory/_county_choropleth.py\u001b[0m in \u001b[0;36mcreate_choropleth\u001b[0;34m(fips, values, scope, binning_endpoints, colorscale, order, simplify_county, simplify_state, asp, show_hover, show_state_data, state_outline, county_outline, centroid_marker, round_legend_values, exponent_format, legend_title, **layout_options)\u001b[0m\n\u001b[1;32m    617\u001b[0m \u001b[0;34m\u001b[0m\u001b[0m\n\u001b[1;32m    618\u001b[0m     \u001b[0;32mif\u001b[0m \u001b[0;32mnot\u001b[0m \u001b[0mgp\u001b[0m \u001b[0;32mor\u001b[0m \u001b[0;32mnot\u001b[0m \u001b[0mshapefile\u001b[0m \u001b[0;32mor\u001b[0m \u001b[0;32mnot\u001b[0m \u001b[0mshapely\u001b[0m\u001b[0;34m:\u001b[0m\u001b[0;34m\u001b[0m\u001b[0;34m\u001b[0m\u001b[0m\n\u001b[0;32m--> 619\u001b[0;31m         raise ImportError(\n\u001b[0m\u001b[1;32m    620\u001b[0m             \u001b[0;34m\"geopandas, pyshp and shapely must be installed for this figure \"\u001b[0m\u001b[0;34m\u001b[0m\u001b[0;34m\u001b[0m\u001b[0m\n\u001b[1;32m    621\u001b[0m             \u001b[0;34m\"factory.\\n\\nRun the following commands to install the correct \"\u001b[0m\u001b[0;34m\u001b[0m\u001b[0;34m\u001b[0m\u001b[0m\n",
      "\u001b[0;31mImportError\u001b[0m: geopandas, pyshp and shapely must be installed for this figure factory.\n\nRun the following commands to install the correct versions of the following modules:\n\n```\n$ pip install geopandas==0.3.0\n$ pip install pyshp==1.2.10\n$ pip install shapely==1.6.3\n```\nIf you are using Windows, follow this post to properly install geopandas and dependencies:http://geoffboeing.com/2014/09/using-geopandas-windows/\n\nIf you are using Anaconda, do not use PIP to install the packages above. Instead use conda to install them:\n\n```\n$ conda install plotly\n$ conda install geopandas\n```"
     ]
    }
   ],
   "source": [
    "# The spread of the pandemic, visualized\n",
    "\n",
    "fig = ff.create_choropleth(fips=df['FIPS'], values=df['04_Cases'])\n",
    "fig.update_layout(showlegend=False)\n",
    "fig.show()\n",
    "\n",
    "fig = ff.create_choropleth(fips=df['FIPS'], values=df['08_Cases'])\n",
    "fig.update_layout(showlegend=False)\n",
    "fig.show()\n",
    "\n",
    "fig = ff.create_choropleth(fips=df['FIPS'], values=df['12_Cases'])\n",
    "fig.update_layout(showlegend=False)\n",
    "fig.show()"
   ]
  },
  {
   "cell_type": "code",
   "execution_count": 17,
   "metadata": {},
   "outputs": [
    {
     "data": {
      "image/png": "[encoded data removed]",
      "text/plain": [
       "<Figure size 432x288 with 1 Axes>"
      ]
     },
     "metadata": {
      "needs_background": "light"
     },
     "output_type": "display_data"
    }
   ],
   "source": [
    "plt.plot(\n",
    "    [1, 2, 3, 4, 5, 6, 7, 8, 9, 10, 11, 12],\n",
    "    [df[\"01_Cases\"].sum(), df[\"02_Cases\"].sum(), df[\"03_Cases\"].sum(), df[\"04_Cases\"].sum(), df[\"05_Cases\"].sum(), df[\"06_Cases\"].sum(), df[\"07_Cases\"].sum(), df[\"08_Cases\"].sum(), df[\"09_Cases\"].sum(), df[\"10_Cases\"].sum(), df[\"11_Cases\"].sum(), df[\"12_Cases\"].sum()]\n",
    ")\n",
    "plt.xlabel('Month in 2020')\n",
    "plt.ylabel('Number of Cases')\n",
    "plt.title('COVID-19 Cases Over Time in USA')\n",
    "plt.show()"
   ]
  },
  {
   "cell_type": "code",
   "execution_count": null,
   "metadata": {},
   "outputs": [],
   "source": [
    "def get_labels(suffix):\n",
    "    labs = []\n",
    "    for i in range(1,10):\n",
    "        labs.append('0' + str(i) + suffix)\n",
    "    for i in range(10,13):\n",
    "        labs.append(str(i) + suffix)\n",
    "    return labs"
   ]
  },
  {
   "cell_type": "code",
   "execution_count": null,
   "metadata": {},
   "outputs": [],
   "source": [
    "x = range(1,12)\n",
    "t = [df[lab].mean() for lab in get_labels('_ZHVI_Top')]\n",
    "b = [df[lab].mean() for lab in get_labels('_ZHVI_Bot')]\n",
    "d_t, d_b = [], []\n",
    "\n",
    "for i in range(1,12):\n",
    "    d_t.append((t[i]/t[i-1])**12)\n",
    "    d_b.append((b[i]/b[i-1])**12)\n",
    "    \n",
    "plt.plot(x,d_t, color='green')\n",
    "plt.plot(x,d_b, color='blue')\n",
    "plt.xticks(range(1,12))\n",
    "plt.xlabel('Months of 2020')\n",
    "plt.ylabel('Home Price Monthly CAGR')\n",
    "plt.show()"
   ]
  },
  {
   "cell_type": "code",
   "execution_count": null,
   "metadata": {},
   "outputs": [],
   "source": [
    "plt.scatter(df[\"FIPS\"], df[\"01_ZHVI_Bot\"])\n",
    "plt.xlabel('FIPS')\n",
    "plt.ylabel('ZHIV')\n",
    "plt.title('1/31/2020 Bottom Tier Homes')\n",
    "plt.show()"
   ]
  },
  {
   "cell_type": "code",
   "execution_count": null,
   "metadata": {},
   "outputs": [],
   "source": [
    "plt.scatter(df[\"FIPS\"], df[\"01_ZHVI_Top\"])\n",
    "plt.xlabel('FIPS')\n",
    "plt.ylabel('ZHIV')\n",
    "plt.title('1/31/2020 Top Tier Homes')\n",
    "plt.show()"
   ]
  },
  {
   "cell_type": "code",
   "execution_count": null,
   "metadata": {},
   "outputs": [],
   "source": [
    "plt.scatter(df[\"FIPS\"], df[\"08_ZHVI_Bot\"])\n",
    "plt.xlabel('FIPS')\n",
    "plt.ylabel('ZHIV')\n",
    "plt.title('8/31/2020 Bottom Tier Homes')\n",
    "plt.show()"
   ]
  },
  {
   "cell_type": "code",
   "execution_count": null,
   "metadata": {},
   "outputs": [],
   "source": [
    "plt.scatter(df[\"FIPS\"], df[\"08_ZHVI_Top\"])\n",
    "plt.xlabel('FIPS')\n",
    "plt.ylabel('ZHIV')\n",
    "plt.title('8/31/2020 Top Tier Homes')\n",
    "plt.show()"
   ]
  },
  {
   "cell_type": "code",
   "execution_count": null,
   "metadata": {},
   "outputs": [],
   "source": []
  },
  {
   "cell_type": "code",
   "execution_count": null,
   "metadata": {},
   "outputs": [],
   "source": []
  }
 ],
 "metadata": {
  "kernelspec": {
   "display_name": "Python 3",
   "language": "python",
   "name": "python3"
  },
  "language_info": {
   "codemirror_mode": {
    "name": "ipython",
    "version": 3
   },
   "file_extension": ".py",
   "mimetype": "text/x-python",
   "name": "python",
   "nbconvert_exporter": "python",
   "pygments_lexer": "ipython3",
   "version": "3.8.5"
  }
 },
 "nbformat": 4,
 "nbformat_minor": 4
}
